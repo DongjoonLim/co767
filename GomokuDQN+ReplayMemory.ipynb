{
 "cells": [
  {
   "cell_type": "markdown",
   "metadata": {},
   "source": [
    "# Declare global variables\n",
    "\n",
    "### Gomoku environment consulted from https://github.com/rockingdingo/gym-gomoku/blob/master/gym_gomoku/envs/gomoku.py\n",
    "### DQN consulted from https://github.com/doublejtoh/GomokuAI/blob/master/dqn.py"
   ]
  },
  {
   "cell_type": "code",
   "execution_count": 1,
   "metadata": {},
   "outputs": [
    {
     "name": "stdout",
     "output_type": "stream",
     "text": [
      "WARNING:tensorflow:From /usr/lib/python3/dist-packages/tensorflow/python/framework/op_def_library.py:263: colocate_with (from tensorflow.python.framework.ops) is deprecated and will be removed in a future version.\n",
      "Instructions for updating:\n",
      "Colocations handled automatically by placer.\n"
     ]
    },
    {
     "name": "stderr",
     "output_type": "stream",
     "text": [
      "Using TensorFlow backend.\n"
     ]
    }
   ],
   "source": [
    "import numpy as np\n",
    "import pandas as pd\n",
    "import tensorflow as tf\n",
    "import keras\n",
    "\n",
    "from environment.ReplayMemory import ReplayMemory\n",
    "from environment.GomokuEnvironment import GomokuEnvironment\n",
    "import math\n",
    "import os\n",
    "import random\n",
    "\n",
    "# set global variables\n",
    "num_actions = 225\n",
    "num_states = 225\n",
    "hidden_units = 1000\n",
    "mem_threshold = 30000\n",
    "batch = 50\n",
    "num_epoch = 100\n",
    "epsilon_disRate = 0.999\n",
    "min_epsilon = 0.1\n",
    "gamma = 0.99\n",
    "learning_rate = 0.2\n",
    "winning_reward = 1"
   ]
  },
  {
   "cell_type": "markdown",
   "metadata": {},
   "source": [
    "## Set the network"
   ]
  },
  {
   "cell_type": "code",
   "execution_count": 2,
   "metadata": {},
   "outputs": [],
   "source": [
    "# Set the model\n",
    "X = tf.placeholder(tf.float32, [None, num_states])\n",
    "weight1 = tf.Variable(tf.truncated_normal([num_states, hidden_units], stddev = 1.0 / math.sqrt(float(num_states))))\n",
    "bias1 = tf.Variable(tf.truncated_normal([hidden_units], stddev = 0.01))\n",
    "input_layer = tf.nn.relu(tf.matmul(X, weight1) + bias1)\n",
    "\n",
    "weight2 = tf.Variable(tf.truncated_normal([hidden_units, hidden_units], stddev = 1.0 / math.sqrt(float(hidden_units))))\n",
    "bias2 = tf.Variable(tf.truncated_normal([hidden_units], stddev = 0.01))\n",
    "hidden_layer = tf.nn.relu(tf.matmul(input_layer, weight2) + bias2)\n",
    "\n",
    "weight3 = tf.Variable(tf.truncated_normal([hidden_units, hidden_units], stddev = 1.0 / math.sqrt(float(hidden_units))))\n",
    "bias3 = tf.Variable(tf.truncated_normal([hidden_units], stddev = 0.01))\n",
    "hidden_layer2 = tf.nn.relu(tf.matmul(hidden_layer, weight3) + bias3)\n",
    "\n",
    "weight4 = tf.Variable(tf.truncated_normal([hidden_units, num_actions], stddev = 1.0 / math.sqrt(float(hidden_units))))\n",
    "bias4 = tf.Variable(tf.truncated_normal([num_actions], stddev = 0.01))\n",
    "output_layer = tf.matmul(hidden_layer2, weight4) + bias4\n",
    "\n",
    "Y = tf.placeholder(tf.float32, [None, num_actions])\n",
    "cost = tf.reduce_sum(tf.square(Y - output_layer)) / (2 * batch)\n",
    "optimizer = tf.train.GradientDescentOptimizer(learning_rate).minimize(cost)\n",
    "\n",
    "\n",
    "empty = 0\n",
    "BlackStone = 1\n",
    "whiteStone = 2"
   ]
  },
  {
   "cell_type": "markdown",
   "metadata": {},
   "source": [
    "## Function for training"
   ]
  },
  {
   "cell_type": "code",
   "execution_count": null,
   "metadata": {},
   "outputs": [],
   "source": [
    "def playGame(env, memory, sess, saver, epsilon, iteration):\n",
    "\n",
    "        # Repeat playing\n",
    "        num_wins = 0\n",
    "\n",
    "        for i in range(num_epoch):\n",
    "                env.reset()\n",
    "\n",
    "                err = 0\n",
    "                gameOver = False\n",
    "                currentPlayer = BlackStone\n",
    "                \n",
    "                while( gameOver != True ):\n",
    "                        \n",
    "                        # Act\n",
    "                        \n",
    "                        action = - 9999\n",
    "                        \n",
    "                        if( currentPlayer == BlackStone ):\n",
    "                                currentState = env.getState()\n",
    "                        else:\n",
    "                                currentState = env.getStateInverse()\n",
    "\n",
    "                        if( (float(random.randrange(0, 9999)) / 10000) <= epsilon ):\n",
    "                                action = env.getActionRandom()\n",
    "                        else:\n",
    "                                action = env.getAction(sess, currentState)\n",
    "\n",
    "                        if( epsilon > min_epsilon ):\n",
    "                                epsilon = epsilon * epsilon_disRate\n",
    "                        \n",
    "                        next_state, reward, gameOver = env.makeMove(currentPlayer, action)\n",
    "\n",
    "                        if( reward == 1 and currentPlayer == BlackStone ):\n",
    "                                num_wins = num_wins + 1\n",
    "\n",
    "                        \n",
    "                        # Learning\n",
    "                \n",
    "                        memory.remember(currentState, action, reward, next_state, gameOver)\n",
    "\n",
    "                        inputs, targets = memory.getBatch(output_layer, batch, num_actions, num_states, sess, X)\n",
    "                        \n",
    "                        _, loss = sess.run([optimizer, cost], feed_dict = {X: inputs, Y: targets})\n",
    "                        err = err + loss\n",
    "                        \n",
    "                        if( currentPlayer == BlackStone ):\n",
    "                                currentPlayer = whiteStone\n",
    "                        else:\n",
    "                                currentPlayer = BlackStone\n",
    "\n",
    "                print(\"num_epoch \" + str(iteration) + str(i) + \": err = \" + str(err) + \": Win count = \" + str(num_wins) +\n",
    "                                \" Win ratio = \" + str(float(num_wins) / float(i + 1) * 100))\n",
    "\n",
    "                print(targets)\n",
    "\n",
    "                if( (i % 10 == 0) and (i != 0) ):\n",
    "                        save_path = saver.save(sess, os.getcwd() + \"/GomokuModel.ckpt\")\n",
    "                        print(\"Model saved in file: %s\" % save_path)\n",
    "        return float(num_wins) / float(i + 1) * 100"
   ]
  },
  {
   "cell_type": "markdown",
   "metadata": {},
   "source": [
    "## Run and Train"
   ]
  },
  {
   "cell_type": "code",
   "execution_count": null,
   "metadata": {},
   "outputs": [
    {
     "name": "stdout",
     "output_type": "stream",
     "text": [
      "Training new model\n",
      "num_epoch 00: err = 1.11605117551: Win count = 0 Win ratio = 0.0\n",
      "[[ 0.7000466   0.06221122 -0.04591615 ...,  0.87519741  0.4803111\n",
      "   0.50214678]\n",
      " [ 0.81718695  0.00440256  0.01672528 ...,  0.93738687  0.4196257\n",
      "   0.7278595 ]\n",
      " [ 0.61284703 -0.02726706 -0.14187515 ...,  0.79849815  0.53512228\n",
      "   0.63725358]\n",
      " ..., \n",
      " [ 0.75119525  0.09283787 -0.07102896 ...,  0.86778218  0.44806683\n",
      "   0.50240862]\n",
      " [ 0.85522115  0.12943372 -0.0938039  ...,  0.87159365  0.51436573\n",
      "   0.46868688]\n",
      " [ 0.0836743  -0.0248617  -0.03026998 ...,  0.16317593  0.09069854\n",
      "   0.11914407]]\n"
     ]
    }
   ],
   "source": [
    "print(\"Training new model\")\n",
    "\n",
    "# Instantiate the environment\n",
    "env = GomokuEnvironment(15)\n",
    "\n",
    "# Instantiate replay memory\n",
    "memory = ReplayMemory(15, mem_threshold, gamma)\n",
    "\n",
    "# Initialize tensorflow\n",
    "sess = tf.Session()\n",
    "sess.run(tf.global_variables_initializer())\n",
    "\n",
    "# Saver\n",
    "saver = tf.train.Saver()\n",
    "\n",
    "# Load model\n",
    "if( os.path.isfile(os.getcwd() + \"/GomokuModel.ckpt.index\") == True ):\n",
    "        saver.restore(sess, os.getcwd() + \"/GomokuModel.ckpt\")\n",
    "        print('Saved model is loaded!')\n",
    "\n",
    "# Playing the game\n",
    "iteration = 0\n",
    "winRateList = []\n",
    "for x in range(9000000):\n",
    "        winRate = playGame(env, memory, sess, saver, 1, iteration)\n",
    "        winRateList.append(winRate)\n",
    "        print(winRateList)\n",
    "        iteration += 1\n",
    "\n",
    "        df = pd.DataFrame(winRateList, columns=[\"colummn\"])\n",
    "        df.to_csv('results/list2.csv', index=False)\n",
    "\n",
    "\n",
    "# close session\n",
    "sess.close()"
   ]
  }
 ],
 "metadata": {
  "kernelspec": {
   "display_name": "Python 3",
   "language": "python",
   "name": "python3"
  },
  "language_info": {
   "codemirror_mode": {
    "name": "ipython",
    "version": 3
   },
   "file_extension": ".py",
   "mimetype": "text/x-python",
   "name": "python",
   "nbconvert_exporter": "python",
   "pygments_lexer": "ipython3",
   "version": "3.6.7"
  }
 },
 "nbformat": 4,
 "nbformat_minor": 2
}
