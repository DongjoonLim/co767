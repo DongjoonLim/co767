{
 "cells": [
  {
   "cell_type": "markdown",
   "metadata": {},
   "source": [
    "# Declare global variables\n",
    "\n",
    "### Gomoku environment consulted from https://github.com/rockingdingo/gym-gomoku/blob/master/gym_gomoku/envs/gomoku.py\n",
    "### DQN consulted from https://github.com/doublejtoh/GomokuAI/blob/master/dqn.py"
   ]
  },
  {
   "cell_type": "code",
   "execution_count": 1,
   "metadata": {},
   "outputs": [
    {
     "name": "stdout",
     "output_type": "stream",
     "text": [
      "WARNING:tensorflow:From /usr/lib/python3/dist-packages/tensorflow/python/framework/op_def_library.py:263: colocate_with (from tensorflow.python.framework.ops) is deprecated and will be removed in a future version.\n",
      "Instructions for updating:\n",
      "Colocations handled automatically by placer.\n"
     ]
    },
    {
     "name": "stderr",
     "output_type": "stream",
     "text": [
      "Using TensorFlow backend.\n"
     ]
    }
   ],
   "source": [
    "import numpy as np\n",
    "import pandas as pd\n",
    "import tensorflow as tf\n",
    "import keras\n",
    "\n",
    "from environment.ReplayMemory import ReplayMemory\n",
    "from environment.GomokuEnvironmentRewardTen import GomokuEnvironmentRewardTen\n",
    "import math\n",
    "import os\n",
    "import random\n",
    "\n",
    "# set global variables\n",
    "num_actions = 100\n",
    "num_states = 100\n",
    "hidden_units = 1000\n",
    "mem_threshold = 30000\n",
    "batch = 50\n",
    "num_epoch = 100\n",
    "epsilon_disRate = 0.999\n",
    "min_epsilon = 0.1\n",
    "gamma = 0.9\n",
    "learning_rate = 0.2\n",
    "winning_reward = 1"
   ]
  },
  {
   "cell_type": "markdown",
   "metadata": {},
   "source": [
    "## Set the network"
   ]
  },
  {
   "cell_type": "code",
   "execution_count": 2,
   "metadata": {},
   "outputs": [],
   "source": [
    "# Set the model\n",
    "X = tf.placeholder(tf.float32, [None, num_states])\n",
    "weight1 = tf.Variable(tf.truncated_normal([num_states, hidden_units], stddev = 1.0 / math.sqrt(float(num_states))))\n",
    "bias1 = tf.Variable(tf.truncated_normal([hidden_units], stddev = 0.01))\n",
    "input_layer = tf.nn.relu(tf.matmul(X, weight1) + bias1)\n",
    "\n",
    "weight2 = tf.Variable(tf.truncated_normal([hidden_units, hidden_units], stddev = 1.0 / math.sqrt(float(hidden_units))))\n",
    "bias2 = tf.Variable(tf.truncated_normal([hidden_units], stddev = 0.01))\n",
    "hidden_layer = tf.nn.relu(tf.matmul(input_layer, weight2) + bias2)\n",
    "\n",
    "weight3 = tf.Variable(tf.truncated_normal([hidden_units, hidden_units], stddev = 1.0 / math.sqrt(float(hidden_units))))\n",
    "bias3 = tf.Variable(tf.truncated_normal([hidden_units], stddev = 0.01))\n",
    "hidden_layer2 = tf.nn.relu(tf.matmul(hidden_layer, weight3) + bias3)\n",
    "\n",
    "weight4 = tf.Variable(tf.truncated_normal([hidden_units, num_actions], stddev = 1.0 / math.sqrt(float(hidden_units))))\n",
    "bias4 = tf.Variable(tf.truncated_normal([num_actions], stddev = 0.01))\n",
    "output_layer = tf.matmul(hidden_layer2, weight4) + bias4\n",
    "\n",
    "Y = tf.placeholder(tf.float32, [None, num_actions])\n",
    "cost = tf.reduce_sum(tf.square(Y - output_layer)) / (2 * batch)\n",
    "optimizer = tf.train.GradientDescentOptimizer(learning_rate).minimize(cost)\n",
    "\n",
    "\n",
    "empty = 0\n",
    "BlackStone = 1\n",
    "whiteStone = 2"
   ]
  },
  {
   "cell_type": "markdown",
   "metadata": {},
   "source": [
    "## Function for training"
   ]
  },
  {
   "cell_type": "code",
   "execution_count": 3,
   "metadata": {},
   "outputs": [],
   "source": [
    "def playGame(env, memory, sess, saver, epsilon, iteration):\n",
    "\n",
    "        # Repeat playing\n",
    "        num_wins = 0\n",
    "\n",
    "        for i in range(num_epoch):\n",
    "                env.reset()\n",
    "\n",
    "                err = 0\n",
    "                gameOver = False\n",
    "                currentPlayer = BlackStone\n",
    "                \n",
    "                while( gameOver != True ):\n",
    "                        \n",
    "                        # Act\n",
    "                        \n",
    "                        action = - 9999\n",
    "                        \n",
    "                        if( currentPlayer == BlackStone ):\n",
    "                                currentState = env.getState()\n",
    "                        else:\n",
    "                                currentState = env.getStateInverse()\n",
    "\n",
    "                        if( (float(random.randrange(0, 9999)) / 10000) <= epsilon ):\n",
    "                                action = env.getActionRandom()\n",
    "                        else:\n",
    "                                action = env.getAction(sess, currentState)\n",
    "\n",
    "                        if( epsilon > min_epsilon ):\n",
    "                                epsilon = epsilon * epsilon_disRate\n",
    "                        \n",
    "                        next_state, reward, gameOver = env.makeMove(currentPlayer, action)\n",
    "\n",
    "                        if( reward == 1 and currentPlayer == BlackStone ):\n",
    "                                num_wins = num_wins + 1\n",
    "\n",
    "                        \n",
    "                        # Learning\n",
    "                \n",
    "                        memory.remember(currentState, action, reward, next_state, gameOver)\n",
    "\n",
    "                        inputs, targets = memory.getBatch(output_layer, batch, num_actions, num_states, sess, X)\n",
    "                        \n",
    "                        _, loss = sess.run([optimizer, cost], feed_dict = {X: inputs, Y: targets})\n",
    "                        err = err + loss\n",
    "                        \n",
    "                        if( currentPlayer == BlackStone ):\n",
    "                                currentPlayer = whiteStone\n",
    "                        else:\n",
    "                                currentPlayer = BlackStone\n",
    "\n",
    "                print(\"num_epoch \" + str(iteration) + str(i) + \": err = \" + str(err) + \": Win count = \" + str(num_wins) +\n",
    "                                \" Win ratio = \" + str(float(num_wins) / float(i + 1) * 100))\n",
    "\n",
    "                print(targets)\n",
    "\n",
    "                if( (i % 10 == 0) and (i != 0) ):\n",
    "                        save_path = saver.save(sess, os.getcwd() + \"/GomokuModel.ckpt\")\n",
    "                        print(\"Model saved in file: %s\" % save_path)\n",
    "        return float(num_wins) / float(i + 1) * 100"
   ]
  },
  {
   "cell_type": "markdown",
   "metadata": {},
   "source": [
    "## Run and Train"
   ]
  },
  {
   "cell_type": "code",
   "execution_count": 4,
   "metadata": {},
   "outputs": [
    {
     "name": "stdout",
     "output_type": "stream",
     "text": [
      "Training new model\n",
      "num_epoch 00: err = 0.687717353567: Win count = 1 Win ratio = 100.0\n",
      "[[ 0.82583249  0.7722047   0.42870101 ..., -0.03959448 -0.18507947\n",
      "  -0.04592571]\n",
      " [ 0.69334608  0.67293453  0.20283471 ...,  0.15863803 -0.14301051\n",
      "  -0.15185651]\n",
      " [ 0.05044281  0.08557514  0.04213211 ..., -0.00171563  0.00386832\n",
      "  -0.02603359]\n",
      " ..., \n",
      " [ 0.61952847  0.73792946  0.29140508 ...,  0.1322259  -0.16090304\n",
      "  -0.05082181]\n",
      " [ 0.26584998  0.3475492   0.17796841 ...,  0.03984526 -0.01827494\n",
      "  -0.04266731]\n",
      " [ 0.52038342  0.52105498  0.26403543 ...,  0.05762331 -0.07130639\n",
      "  -0.02805105]]\n"
     ]
    },
    {
     "ename": "KeyboardInterrupt",
     "evalue": "",
     "output_type": "error",
     "traceback": [
      "\u001b[0;31m---------------------------------------------------------------------------\u001b[0m",
      "\u001b[0;31mKeyboardInterrupt\u001b[0m                         Traceback (most recent call last)",
      "\u001b[0;32m<ipython-input-4-c8ff787bf17f>\u001b[0m in \u001b[0;36m<module>\u001b[0;34m()\u001b[0m\n\u001b[1;32m     23\u001b[0m \u001b[0mwinRateList\u001b[0m \u001b[0;34m=\u001b[0m \u001b[0;34m[\u001b[0m\u001b[0;34m]\u001b[0m\u001b[0;34m\u001b[0m\u001b[0;34m\u001b[0m\u001b[0m\n\u001b[1;32m     24\u001b[0m \u001b[0;32mfor\u001b[0m \u001b[0mx\u001b[0m \u001b[0;32min\u001b[0m \u001b[0mrange\u001b[0m\u001b[0;34m(\u001b[0m\u001b[0;36m9000000\u001b[0m\u001b[0;34m)\u001b[0m\u001b[0;34m:\u001b[0m\u001b[0;34m\u001b[0m\u001b[0;34m\u001b[0m\u001b[0m\n\u001b[0;32m---> 25\u001b[0;31m         \u001b[0mwinRate\u001b[0m \u001b[0;34m=\u001b[0m \u001b[0mplayGame\u001b[0m\u001b[0;34m(\u001b[0m\u001b[0menv\u001b[0m\u001b[0;34m,\u001b[0m \u001b[0mmemory\u001b[0m\u001b[0;34m,\u001b[0m \u001b[0msess\u001b[0m\u001b[0;34m,\u001b[0m \u001b[0msaver\u001b[0m\u001b[0;34m,\u001b[0m \u001b[0;36m1\u001b[0m\u001b[0;34m,\u001b[0m \u001b[0miteration\u001b[0m\u001b[0;34m)\u001b[0m\u001b[0;34m\u001b[0m\u001b[0;34m\u001b[0m\u001b[0m\n\u001b[0m\u001b[1;32m     26\u001b[0m         \u001b[0mwinRateList\u001b[0m\u001b[0;34m.\u001b[0m\u001b[0mappend\u001b[0m\u001b[0;34m(\u001b[0m\u001b[0mwinRate\u001b[0m\u001b[0;34m)\u001b[0m\u001b[0;34m\u001b[0m\u001b[0;34m\u001b[0m\u001b[0m\n\u001b[1;32m     27\u001b[0m         \u001b[0mprint\u001b[0m\u001b[0;34m(\u001b[0m\u001b[0mwinRateList\u001b[0m\u001b[0;34m)\u001b[0m\u001b[0;34m\u001b[0m\u001b[0;34m\u001b[0m\u001b[0m\n",
      "\u001b[0;32m<ipython-input-3-e957ba201664>\u001b[0m in \u001b[0;36mplayGame\u001b[0;34m(env, memory, sess, saver, epsilon, iteration)\u001b[0m\n\u001b[1;32m     30\u001b[0m                                 \u001b[0mepsilon\u001b[0m \u001b[0;34m=\u001b[0m \u001b[0mepsilon\u001b[0m \u001b[0;34m*\u001b[0m \u001b[0mepsilon_disRate\u001b[0m\u001b[0;34m\u001b[0m\u001b[0;34m\u001b[0m\u001b[0m\n\u001b[1;32m     31\u001b[0m \u001b[0;34m\u001b[0m\u001b[0m\n\u001b[0;32m---> 32\u001b[0;31m                         \u001b[0mnext_state\u001b[0m\u001b[0;34m,\u001b[0m \u001b[0mreward\u001b[0m\u001b[0;34m,\u001b[0m \u001b[0mgameOver\u001b[0m \u001b[0;34m=\u001b[0m \u001b[0menv\u001b[0m\u001b[0;34m.\u001b[0m\u001b[0mmakeMove\u001b[0m\u001b[0;34m(\u001b[0m\u001b[0mcurrentPlayer\u001b[0m\u001b[0;34m,\u001b[0m \u001b[0maction\u001b[0m\u001b[0;34m)\u001b[0m\u001b[0;34m\u001b[0m\u001b[0;34m\u001b[0m\u001b[0m\n\u001b[0m\u001b[1;32m     33\u001b[0m \u001b[0;34m\u001b[0m\u001b[0m\n\u001b[1;32m     34\u001b[0m                         \u001b[0;32mif\u001b[0m\u001b[0;34m(\u001b[0m \u001b[0mreward\u001b[0m \u001b[0;34m==\u001b[0m \u001b[0;36m1\u001b[0m \u001b[0;32mand\u001b[0m \u001b[0mcurrentPlayer\u001b[0m \u001b[0;34m==\u001b[0m \u001b[0mBlackStone\u001b[0m \u001b[0;34m)\u001b[0m\u001b[0;34m:\u001b[0m\u001b[0;34m\u001b[0m\u001b[0;34m\u001b[0m\u001b[0m\n",
      "\u001b[0;32m/home/dongjoon/ml/comp767/project/5row/environment/GomokuEnvironmentRewardTen.py\u001b[0m in \u001b[0;36mmakeMove\u001b[0;34m(self, player, action)\u001b[0m\n\u001b[1;32m    298\u001b[0m         \u001b[0;32mdef\u001b[0m \u001b[0mmakeMove\u001b[0m\u001b[0;34m(\u001b[0m\u001b[0mself\u001b[0m\u001b[0;34m,\u001b[0m \u001b[0mplayer\u001b[0m\u001b[0;34m,\u001b[0m \u001b[0maction\u001b[0m\u001b[0;34m)\u001b[0m\u001b[0;34m:\u001b[0m\u001b[0;34m\u001b[0m\u001b[0;34m\u001b[0m\u001b[0m\n\u001b[1;32m    299\u001b[0m                 \u001b[0mself\u001b[0m\u001b[0;34m.\u001b[0m\u001b[0mstate\u001b[0m\u001b[0;34m[\u001b[0m\u001b[0maction\u001b[0m\u001b[0;34m]\u001b[0m \u001b[0;34m=\u001b[0m \u001b[0mplayer\u001b[0m\u001b[0;34m\u001b[0m\u001b[0;34m\u001b[0m\u001b[0m\n\u001b[0;32m--> 300\u001b[0;31m                 \u001b[0mgameOver\u001b[0m\u001b[0;34m,\u001b[0m \u001b[0mreward\u001b[0m \u001b[0;34m=\u001b[0m \u001b[0mself\u001b[0m\u001b[0;34m.\u001b[0m\u001b[0misGameOver\u001b[0m\u001b[0;34m(\u001b[0m\u001b[0mplayer\u001b[0m\u001b[0;34m)\u001b[0m\u001b[0;34m\u001b[0m\u001b[0;34m\u001b[0m\u001b[0m\n\u001b[0m\u001b[1;32m    301\u001b[0m \u001b[0;34m\u001b[0m\u001b[0m\n\u001b[1;32m    302\u001b[0m                 \u001b[0;32mif\u001b[0m\u001b[0;34m(\u001b[0m \u001b[0mreward\u001b[0m \u001b[0;34m==\u001b[0m \u001b[0;36m0\u001b[0m \u001b[0;34m)\u001b[0m\u001b[0;34m:\u001b[0m\u001b[0;34m\u001b[0m\u001b[0;34m\u001b[0m\u001b[0m\n",
      "\u001b[0;32m/home/dongjoon/ml/comp767/project/5row/environment/GomokuEnvironmentRewardTen.py\u001b[0m in \u001b[0;36misGameOver\u001b[0;34m(self, player)\u001b[0m\n\u001b[1;32m    279\u001b[0m                         \u001b[0;32melse\u001b[0m\u001b[0;34m:\u001b[0m\u001b[0;34m\u001b[0m\u001b[0;34m\u001b[0m\u001b[0m\n\u001b[1;32m    280\u001b[0m                                 \u001b[0;32mreturn\u001b[0m \u001b[0;32mTrue\u001b[0m\u001b[0;34m,\u001b[0m \u001b[0;36m0\u001b[0m\u001b[0;34m\u001b[0m\u001b[0;34m\u001b[0m\u001b[0m\n\u001b[0;32m--> 281\u001b[0;31m                 \u001b[0;32melif\u001b[0m\u001b[0;34m(\u001b[0m \u001b[0mself\u001b[0m\u001b[0;34m.\u001b[0m\u001b[0mCheckMatch\u001b[0m\u001b[0;34m(\u001b[0m\u001b[0mwhiteStone\u001b[0m\u001b[0;34m)\u001b[0m \u001b[0;34m==\u001b[0m \u001b[0;32mTrue\u001b[0m \u001b[0;34m)\u001b[0m\u001b[0;34m:\u001b[0m\u001b[0;34m\u001b[0m\u001b[0;34m\u001b[0m\u001b[0m\n\u001b[0m\u001b[1;32m    282\u001b[0m                         \u001b[0;32mif\u001b[0m\u001b[0;34m(\u001b[0m \u001b[0mplayer\u001b[0m \u001b[0;34m==\u001b[0m \u001b[0mBlackStone\u001b[0m \u001b[0;34m)\u001b[0m\u001b[0;34m:\u001b[0m\u001b[0;34m\u001b[0m\u001b[0;34m\u001b[0m\u001b[0m\n\u001b[1;32m    283\u001b[0m                                 \u001b[0;32mreturn\u001b[0m \u001b[0;32mTrue\u001b[0m\u001b[0;34m,\u001b[0m \u001b[0;36m0\u001b[0m\u001b[0;34m\u001b[0m\u001b[0;34m\u001b[0m\u001b[0m\n",
      "\u001b[0;32m/home/dongjoon/ml/comp767/project/5row/environment/GomokuEnvironmentRewardTen.py\u001b[0m in \u001b[0;36mCheckMatch\u001b[0;34m(self, player)\u001b[0m\n\u001b[1;32m    205\u001b[0m                                 \u001b[0mmatch\u001b[0m \u001b[0;34m=\u001b[0m \u001b[0;36m0\u001b[0m\u001b[0;34m\u001b[0m\u001b[0;34m\u001b[0m\u001b[0m\n\u001b[1;32m    206\u001b[0m \u001b[0;34m\u001b[0m\u001b[0m\n\u001b[0;32m--> 207\u001b[0;31m                                 \u001b[0;32mfor\u001b[0m \u001b[0mi\u001b[0m \u001b[0;32min\u001b[0m \u001b[0mrange\u001b[0m\u001b[0;34m(\u001b[0m\u001b[0;36m5\u001b[0m\u001b[0;34m)\u001b[0m\u001b[0;34m:\u001b[0m\u001b[0;34m\u001b[0m\u001b[0;34m\u001b[0m\u001b[0m\n\u001b[0m\u001b[1;32m    208\u001b[0m                                         \u001b[0;32mif\u001b[0m\u001b[0;34m(\u001b[0m \u001b[0;34m(\u001b[0m\u001b[0mx\u001b[0m \u001b[0;34m+\u001b[0m \u001b[0mi\u001b[0m \u001b[0;34m>=\u001b[0m \u001b[0mself\u001b[0m\u001b[0;34m.\u001b[0m\u001b[0msize_board\u001b[0m\u001b[0;34m)\u001b[0m \u001b[0;32mor\u001b[0m \u001b[0;34m(\u001b[0m\u001b[0my\u001b[0m \u001b[0;34m+\u001b[0m \u001b[0mi\u001b[0m \u001b[0;34m>=\u001b[0m \u001b[0mself\u001b[0m\u001b[0;34m.\u001b[0m\u001b[0msize_board\u001b[0m\u001b[0;34m)\u001b[0m \u001b[0;34m)\u001b[0m\u001b[0;34m:\u001b[0m\u001b[0;34m\u001b[0m\u001b[0;34m\u001b[0m\u001b[0m\n\u001b[1;32m    209\u001b[0m                                                 \u001b[0;32mbreak\u001b[0m\u001b[0;34m\u001b[0m\u001b[0;34m\u001b[0m\u001b[0m\n",
      "\u001b[0;31mKeyboardInterrupt\u001b[0m: "
     ]
    }
   ],
   "source": [
    "print(\"Training new model\")\n",
    "\n",
    "# Instantiate the environment\n",
    "env = GomokuEnvironmentRewardTen(10)\n",
    "\n",
    "# Instantiate replay memory\n",
    "memory = ReplayMemory(10, mem_threshold, gamma)\n",
    "\n",
    "# Initialize tensorflow\n",
    "sess = tf.Session()\n",
    "sess.run(tf.global_variables_initializer())\n",
    "\n",
    "# Saver\n",
    "saver = tf.train.Saver()\n",
    "\n",
    "# Load model\n",
    "if( os.path.isfile(os.getcwd() + \"/GomokuModel.ckpt.index\") == True ):\n",
    "        saver.restore(sess, os.getcwd() + \"/GomokuModel.ckpt\")\n",
    "        print('Saved model is loaded!')\n",
    "\n",
    "# Playing the game\n",
    "iteration = 0\n",
    "winRateList = []\n",
    "for x in range(9000000):\n",
    "        winRate = playGame(env, memory, sess, saver, 1, iteration)\n",
    "        winRateList.append(winRate)\n",
    "        print(winRateList)\n",
    "        iteration += 1\n",
    "\n",
    "        df = pd.DataFrame(winRateList, columns=[\"colummn\"])\n",
    "        df.to_csv('results/list2.csv', index=False)\n",
    "\n",
    "\n",
    "# close session\n",
    "sess.close()"
   ]
  }
 ],
 "metadata": {
  "kernelspec": {
   "display_name": "Python 3",
   "language": "python",
   "name": "python3"
  },
  "language_info": {
   "codemirror_mode": {
    "name": "ipython",
    "version": 3
   },
   "file_extension": ".py",
   "mimetype": "text/x-python",
   "name": "python",
   "nbconvert_exporter": "python",
   "pygments_lexer": "ipython3",
   "version": "3.6.7"
  }
 },
 "nbformat": 4,
 "nbformat_minor": 2
}
